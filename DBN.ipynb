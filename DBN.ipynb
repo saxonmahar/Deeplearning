{
  "nbformat": 4,
  "nbformat_minor": 0,
  "metadata": {
    "colab": {
      "provenance": [],
      "authorship_tag": "ABX9TyOwC3W0vy2iaoyy4GcyuSXh",
      "include_colab_link": true
    },
    "kernelspec": {
      "name": "python3",
      "display_name": "Python 3"
    },
    "language_info": {
      "name": "python"
    }
  },
  "cells": [
    {
      "cell_type": "markdown",
      "metadata": {
        "id": "view-in-github",
        "colab_type": "text"
      },
      "source": [
        "<a href=\"https://colab.research.google.com/github/saxonmahar/Deeplearning/blob/main/DBN.ipynb\" target=\"_parent\"><img src=\"https://colab.research.google.com/assets/colab-badge.svg\" alt=\"Open In Colab\"/></a>"
      ]
    },
    {
      "cell_type": "code",
      "execution_count": 1,
      "metadata": {
        "id": "oK0BzzrJRYGF"
      },
      "outputs": [],
      "source": [
        "import torch\n",
        "import torch.nn as nn\n",
        "import torch.optim as optim\n",
        "from torchvision import datasets, transforms\n",
        "from torch.utils.data import DataLoader\n",
        "import matplotlib.pyplot as plt"
      ]
    },
    {
      "cell_type": "code",
      "source": [
        "class RBM(nn.Module):\n",
        "    def __init__(self, n_visible, n_hidden):\n",
        "        super(RBM, self).__init__()\n",
        "        self.W = nn.Parameter(torch.randn(n_hidden, n_visible) * 0.1)\n",
        "        self.h_bias = nn.Parameter(torch.zeros(n_hidden))\n",
        "        self.v_bias = nn.Parameter(torch.zeros(n_visible))\n",
        "\n",
        "    def sample_h(self, v):\n",
        "        prob_h = torch.sigmoid(F.linear(v, self.W, self.h_bias))\n",
        "        return prob_h, torch.bernoulli(prob_h)\n",
        "\n",
        "    def sample_v(self, h):\n",
        "        prob_v = torch.sigmoid(F.linear(h, self.W.t(), self.v_bias))\n",
        "        return prob_v, torch.bernoulli(prob_v)\n",
        "\n",
        "    def forward(self, v):\n",
        "        prob_h, h = self.sample_h(v)\n",
        "        prob_v, v_sample = self.sample_v(h)\n",
        "        return v_sample\n",
        "\n",
        "    def contrastive_divergence(self, v, k=1, lr=0.01):\n",
        "        v0 = v\n",
        "        for _ in range(k):\n",
        "            prob_h0, h0 = self.sample_h(v0)\n",
        "            prob_v, v0 = self.sample_v(h0)\n",
        "        prob_hk, hk = self.sample_h(v0)\n",
        "\n",
        "        # Weight update\n",
        "        self.W.data += lr * (torch.matmul(prob_h0.t(), v) - torch.matmul(prob_hk.t(), v0)) / v.size(0)\n",
        "        self.v_bias.data += lr * torch.sum(v - v0, dim=0) / v.size(0)\n",
        "        self.h_bias.data += lr * torch.sum(prob_h0 - prob_hk, dim=0) / v.size(0)\n"
      ],
      "metadata": {
        "id": "5F5bGaXyRdLw"
      },
      "execution_count": 2,
      "outputs": []
    },
    {
      "cell_type": "code",
      "source": [
        "import torch\n",
        "from torch.utils.data import DataLoader\n",
        "\n",
        "def _get_x(batch):\n",
        "    return batch[0] if isinstance(batch, (list, tuple)) else batch\n",
        "\n",
        "class DBN(nn.Module):\n",
        "    def __init__(self, layers):\n",
        "        super(DBN, self).__init__()\n",
        "        self.rbms = nn.ModuleList([RBM(layers[i], layers[i+1]) for i in range(len(layers)-1)])\n",
        "\n",
        "    def pretrain(self, train_loader, epochs=5, lr=0.01, batch_size=64, k=1, binarize_input=True):\n",
        "        current_loader = train_loader\n",
        "        for layer_idx, rbm in enumerate(self.rbms):\n",
        "            print(f\"\\n=== Training RBM Layer {layer_idx+1}/{len(self.rbms)} ===\")\n",
        "            xs = []\n",
        "            for batch in current_loader:\n",
        "                x = _get_x(batch).view(batch[0].size(0), -1) if isinstance(batch, (list, tuple)) else batch.view(batch.size(0), -1)\n",
        "                if layer_idx == 0 and binarize_input:\n",
        "                    x = torch.bernoulli(x)\n",
        "                xs.append(x)\n",
        "            X = torch.cat(xs, dim=0)\n",
        "\n",
        "            for epoch in range(1, epochs+1):\n",
        "                perm = torch.randperm(X.size(0))\n",
        "                for start in range(0, X.size(0), batch_size):\n",
        "                    v_batch = X[perm[start:start+batch_size]]\n",
        "                    rbm.contrastive_divergence(v_batch, k=k, lr=lr)\n",
        "                print(f\"RBM Layer {layer_idx+1}, Epoch [{epoch}/{epochs}] done.\")\n",
        "\n",
        "\n",
        "            with torch.no_grad():\n",
        "                h_list = []\n",
        "                for start in range(0, X.size(0), batch_size):\n",
        "                    prob_h, _ = rbm.sample_h(X[start:start+batch_size])\n",
        "                    h_list.append(prob_h)\n",
        "                H = torch.cat(h_list, dim=0)\n",
        "            current_loader = DataLoader(H, batch_size=batch_size, shuffle=True)\n"
      ],
      "metadata": {
        "id": "j8NXGU2nRloT"
      },
      "execution_count": 8,
      "outputs": []
    },
    {
      "cell_type": "code",
      "source": [
        "transform = transforms.Compose([transforms.ToTensor()])\n",
        "train_dataset = datasets.MNIST(root='./data', train=True, transform=transform, download=True)\n",
        "train_loader = DataLoader(train_dataset, batch_size=64, shuffle=True)"
      ],
      "metadata": {
        "id": "j4AAvrFoRpG-"
      },
      "execution_count": 9,
      "outputs": []
    },
    {
      "cell_type": "code",
      "source": [
        "dbn = DBN(layers=[784, 256, 64])\n",
        "dbn.pretrain(train_loader, epochs=5, lr=0.01)\n"
      ],
      "metadata": {
        "colab": {
          "base_uri": "https://localhost:8080/"
        },
        "id": "Z9gkKHOpRulS",
        "outputId": "ba312cbc-51a7-44e9-dc72-0d6d59f66ed3"
      },
      "execution_count": 11,
      "outputs": [
        {
          "output_type": "stream",
          "name": "stdout",
          "text": [
            "\n",
            "=== Training RBM Layer 1/2 ===\n",
            "RBM Layer 1, Epoch [1/5] done.\n",
            "RBM Layer 1, Epoch [2/5] done.\n",
            "RBM Layer 1, Epoch [3/5] done.\n",
            "RBM Layer 1, Epoch [4/5] done.\n",
            "RBM Layer 1, Epoch [5/5] done.\n",
            "\n",
            "=== Training RBM Layer 2/2 ===\n",
            "RBM Layer 2, Epoch [1/5] done.\n",
            "RBM Layer 2, Epoch [2/5] done.\n",
            "RBM Layer 2, Epoch [3/5] done.\n",
            "RBM Layer 2, Epoch [4/5] done.\n",
            "RBM Layer 2, Epoch [5/5] done.\n"
          ]
        }
      ]
    },
    {
      "cell_type": "code",
      "source": [
        "import torch\n",
        "import matplotlib.pyplot as plt\n",
        "\n",
        "def show_reconstruction(dbn, data_loader, n=8, use_samples=False, device=None):\n",
        "    \"\"\"\n",
        "    Visualize DBN reconstructions.\n",
        "    - n: number of examples to display.\n",
        "    - use_samples: if True, sample Bernoulli states; else use probabilities (smoother).\n",
        "    \"\"\"\n",
        "    dbn.eval()\n",
        "    if device is None:\n",
        "        device = next(dbn.parameters()).device\n",
        "\n",
        "\n",
        "    x, _ = next(iter(data_loader))\n",
        "    x = x.to(device).view(x.size(0), -1)\n",
        "    x_in = x[:n]\n",
        "\n",
        "    with torch.no_grad():\n",
        "\n",
        "        h = x_in\n",
        "        for rbm in dbn.rbms:\n",
        "            prob_h, h_sample = rbm.sample_h(h)\n",
        "            h = h_sample if use_samples else prob_h\n",
        "\n",
        "\n",
        "        v = h\n",
        "        for rbm in reversed(dbn.rbms):\n",
        "            prob_v, v_sample = rbm.sample_v(v)\n",
        "            v = v_sample if use_samples else prob_v\n",
        "\n",
        "\n",
        "    x_plot = x_in.detach().cpu()\n",
        "    v_plot = v.detach().cpu()\n",
        "\n",
        "    fig, axes = plt.subplots(2, n, figsize=(1.5*n, 3))\n",
        "    for i in range(n):\n",
        "        axes[0, i].imshow(x_plot[i].view(28, 28), cmap='gray')\n",
        "        axes[0, i].axis('off')\n",
        "        axes[1, i].imshow(v_plot[i].view(28, 28), cmap='gray')\n",
        "        axes[1, i].axis('off')\n",
        "    axes[0, 0].set_ylabel(\"Input\")\n",
        "    axes[1, 0].set_ylabel(\"Recon\")\n",
        "    plt.tight_layout()\n",
        "    plt.show()\n",
        "show_reconstruction(dbn, train_loader, n=8)\n"
      ],
      "metadata": {
        "colab": {
          "base_uri": "https://localhost:8080/",
          "height": 307
        },
        "id": "JTR0FKaRRyb9",
        "outputId": "4b88e673-128e-45c2-b9a0-534ef53473e6"
      },
      "execution_count": 14,
      "outputs": [
        {
          "output_type": "display_data",
          "data": {
            "text/plain": [
              "<Figure size 1200x300 with 16 Axes>"
            ],
            "image/png": "[encoded data removed]"
          },
          "metadata": {}
        }
      ]
    },
    {
      "cell_type": "code",
      "source": [],
      "metadata": {
        "id": "Xm3L9_EiThiv"
      },
      "execution_count": null,
      "outputs": []
    }
  ]
}