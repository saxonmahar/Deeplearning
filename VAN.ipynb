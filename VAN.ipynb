{
  "nbformat": 4,
  "nbformat_minor": 0,
  "metadata": {
    "colab": {
      "provenance": [],
      "authorship_tag": "ABX9TyNIoYH0njj4ZpRW/N2b3e8R",
      "include_colab_link": true
    },
    "kernelspec": {
      "name": "python3",
      "display_name": "Python 3"
    },
    "language_info": {
      "name": "python"
    }
  },
  "cells": [
    {
      "cell_type": "markdown",
      "metadata": {
        "id": "view-in-github",
        "colab_type": "text"
      },
      "source": [
        "<a href=\"https://colab.research.google.com/github/saxonmahar/Deeplearning/blob/main/VAN.ipynb\" target=\"_parent\"><img src=\"https://colab.research.google.com/assets/colab-badge.svg\" alt=\"Open In Colab\"/></a>"
      ]
    },
    {
      "cell_type": "code",
      "execution_count": 9,
      "metadata": {
        "id": "Xs54gp5WCwSl"
      },
      "outputs": [],
      "source": [
        "import torch\n",
        "import torch.nn as nn\n",
        "import torch.optim as optim\n",
        "from torchvision import datasets, transforms\n",
        "from torch.utils.data import DataLoader\n",
        "import matplotlib.pyplot as plt"
      ]
    },
    {
      "cell_type": "code",
      "source": [
        "batch_size = 128\n",
        "learning_rate = 1e-3\n",
        "latent_dim = 20\n",
        "epochs = 30"
      ],
      "metadata": {
        "id": "Ls2cZYHCCzy2"
      },
      "execution_count": 10,
      "outputs": []
    },
    {
      "cell_type": "code",
      "source": [
        "transform = transforms.Compose([\n",
        "    transforms.ToTensor()\n",
        "])\n",
        "train_dataset = datasets.MNIST(root='./data', train=True, transform=transform, download=True)\n",
        "train_loader = DataLoader(train_dataset, batch_size=batch_size, shuffle=True)\n"
      ],
      "metadata": {
        "id": "5CS_3FPCC-cj"
      },
      "execution_count": 11,
      "outputs": []
    },
    {
      "cell_type": "code",
      "source": [
        "class VAE(nn.Module):\n",
        "    def __init__(self):\n",
        "        super(VAE, self).__init__()\n",
        "\n",
        "        # Encoder\n",
        "        self.fc1 = nn.Linear(784, 400)\n",
        "        self.fc_mu = nn.Linear(400, latent_dim)      # Mean\n",
        "        self.fc_logvar = nn.Linear(400, latent_dim)  # Log-variance\n",
        "\n",
        "        # Decoder\n",
        "        self.fc3 = nn.Linear(latent_dim, 400)\n",
        "        self.fc4 = nn.Linear(400, 784)\n",
        "\n",
        "    def encode(self, x):\n",
        "        h1 = torch.relu(self.fc1(x))\n",
        "        mu = self.fc_mu(h1)\n",
        "        logvar = self.fc_logvar(h1)\n",
        "        return mu, logvar\n",
        "\n",
        "    def reparameterize(self, mu, logvar):\n",
        "        std = torch.exp(0.5 * logvar)\n",
        "        eps = torch.randn_like(std)\n",
        "        return mu + eps * std  # z = μ + σ * ε\n",
        "\n",
        "    def decode(self, z):\n",
        "        h3 = torch.relu(self.fc3(z))\n",
        "        return torch.sigmoid(self.fc4(h3))\n",
        "\n",
        "    def forward(self, x):\n",
        "        mu, logvar = self.encode(x.view(-1, 784))\n",
        "        z = self.reparameterize(mu, logvar)\n",
        "        return self.decode(z), mu, logvar\n",
        "\n",
        "model = VAE()\n",
        "optimizer = optim.Adam(model.parameters(), lr=learning_rate)"
      ],
      "metadata": {
        "id": "VkvDzdYUDEEk"
      },
      "execution_count": 12,
      "outputs": []
    },
    {
      "cell_type": "code",
      "source": [
        "def loss_function(recon_x, x, mu, logvar):\n",
        "    BCE = nn.functional.binary_cross_entropy(recon_x, x.view(-1, 784), reduction='sum')\n",
        "    # KL Divergence: KL(N(μ,σ²) || N(0,1))\n",
        "    KLD = -0.5 * torch.sum(1 + logvar - mu.pow(2) - logvar.exp())\n",
        "    return BCE + KLD"
      ],
      "metadata": {
        "id": "TG0T1sOrDfKy"
      },
      "execution_count": 13,
      "outputs": []
    },
    {
      "cell_type": "code",
      "source": [
        "model.train()\n",
        "for epoch in range(epochs):\n",
        "    train_loss = 0\n",
        "    for batch_idx, (data, _) in enumerate(train_loader):\n",
        "        optimizer.zero_grad()\n",
        "        recon_batch, mu, logvar = model(data)\n",
        "        loss = loss_function(recon_batch, data, mu, logvar)\n",
        "        loss.backward()\n",
        "        train_loss += loss.item()\n",
        "        optimizer.step()\n",
        "\n",
        "    print(f\"Epoch [{epoch+1}/{epochs}] Loss: {train_loss / len(train_loader.dataset):.4f}\")"
      ],
      "metadata": {
        "colab": {
          "base_uri": "https://localhost:8080/"
        },
        "id": "wx91XW-lEKwL",
        "outputId": "25a62ab3-489c-411c-c177-8bc5fae5b74a"
      },
      "execution_count": 14,
      "outputs": [
        {
          "output_type": "stream",
          "name": "stdout",
          "text": [
            "Epoch [1/30] Loss: 164.2327\n",
            "Epoch [2/30] Loss: 121.2700\n",
            "Epoch [3/30] Loss: 114.6335\n",
            "Epoch [4/30] Loss: 111.8005\n",
            "Epoch [5/30] Loss: 110.0131\n",
            "Epoch [6/30] Loss: 108.8657\n",
            "Epoch [7/30] Loss: 108.0105\n",
            "Epoch [8/30] Loss: 107.4004\n",
            "Epoch [9/30] Loss: 106.8901\n",
            "Epoch [10/30] Loss: 106.4908\n",
            "Epoch [11/30] Loss: 106.1175\n",
            "Epoch [12/30] Loss: 105.7735\n",
            "Epoch [13/30] Loss: 105.4848\n",
            "Epoch [14/30] Loss: 105.2961\n",
            "Epoch [15/30] Loss: 105.0509\n",
            "Epoch [16/30] Loss: 104.8847\n",
            "Epoch [17/30] Loss: 104.6655\n",
            "Epoch [18/30] Loss: 104.5005\n",
            "Epoch [19/30] Loss: 104.4217\n",
            "Epoch [20/30] Loss: 104.1836\n",
            "Epoch [21/30] Loss: 104.1086\n",
            "Epoch [22/30] Loss: 104.0040\n",
            "Epoch [23/30] Loss: 103.7998\n",
            "Epoch [24/30] Loss: 103.7195\n",
            "Epoch [25/30] Loss: 103.5718\n",
            "Epoch [26/30] Loss: 103.5095\n",
            "Epoch [27/30] Loss: 103.4243\n",
            "Epoch [28/30] Loss: 103.2981\n",
            "Epoch [29/30] Loss: 103.2328\n",
            "Epoch [30/30] Loss: 103.1451\n"
          ]
        }
      ]
    },
    {
      "cell_type": "code",
      "source": [
        "model.eval()\n",
        "with torch.no_grad():\n",
        "    z = torch.randn(64, latent_dim)\n",
        "    sample = model.decode(z).cpu()\n",
        "    sample = sample.view(64, 1, 28, 28)\n",
        "\n",
        "    # Show generated images\n",
        "    grid = torch.cat([sample[i] for i in range(64)], dim=2)\n",
        "    plt.figure(figsize=(15, 2))\n",
        "    plt.imshow(grid.squeeze().numpy(), cmap='gray')\n",
        "    plt.show()"
      ],
      "metadata": {
        "colab": {
          "base_uri": "https://localhost:8080/",
          "height": 84
        },
        "id": "RSrpDeeEEWRd",
        "outputId": "e945ad4a-5c62-419c-d83b-dea6ac6290cc"
      },
      "execution_count": 15,
      "outputs": [
        {
          "output_type": "display_data",
          "data": {
            "text/plain": [
              "<Figure size 1500x200 with 1 Axes>"
            ],
            "image/png": "[encoded data removed]"
          },
          "metadata": {}
        }
      ]
    },
    {
      "cell_type": "code",
      "source": [],
      "metadata": {
        "id": "X4kH4Tj4E233"
      },
      "execution_count": 15,
      "outputs": []
    }
  ]
}