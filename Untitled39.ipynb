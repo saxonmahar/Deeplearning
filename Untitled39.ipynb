{
  "nbformat": 4,
  "nbformat_minor": 0,
  "metadata": {
    "colab": {
      "provenance": [],
      "authorship_tag": "ABX9TyNUvy9IIggbpIwIzsIztBMB",
      "include_colab_link": true
    },
    "kernelspec": {
      "name": "python3",
      "display_name": "Python 3"
    },
    "language_info": {
      "name": "python"
    }
  },
  "cells": [
    {
      "cell_type": "markdown",
      "metadata": {
        "id": "view-in-github",
        "colab_type": "text"
      },
      "source": [
        "<a href=\"https://colab.research.google.com/github/saxonmahar/Deeplearning/blob/main/Untitled39.ipynb\" target=\"_parent\"><img src=\"https://colab.research.google.com/assets/colab-badge.svg\" alt=\"Open In Colab\"/></a>"
      ]
    },
    {
      "cell_type": "code",
      "execution_count": 7,
      "metadata": {
        "id": "43quhJ6_hySc"
      },
      "outputs": [],
      "source": [
        "import torch\n",
        "import torch.nn as nn\n",
        "import torch.optim as optim\n",
        "from torchvision import datasets, transforms\n",
        "from torch.utils.data import DataLoader\n",
        "import matplotlib.pyplot as plt\n",
        "import torchvision"
      ]
    },
    {
      "cell_type": "code",
      "source": [
        "transform = transforms.Compose([\n",
        "    transforms.ToTensor(),\n",
        "    transforms.Normalize((0.5,), (0.5,))\n",
        "])\n",
        "\n",
        "dataloader = DataLoader(\n",
        "    datasets.MNIST(root='.', train=True, transform=transform, download=True),\n",
        "    batch_size=64, shuffle=True\n",
        ")\n"
      ],
      "metadata": {
        "id": "MKc70q6ahztS"
      },
      "execution_count": 8,
      "outputs": []
    },
    {
      "cell_type": "code",
      "source": [
        "#takes random noise and generates fake images\n",
        "class Generator(nn.Module):\n",
        "    def __init__(self):\n",
        "        super().__init__()\n",
        "        self.model = nn.Sequential(\n",
        "            nn.Linear(100, 256),\n",
        "            nn.LeakyReLU(0.2),\n",
        "            nn.Linear(256, 512),\n",
        "            nn.LeakyReLU(0.2),\n",
        "            nn.Linear(512, 784),\n",
        "            nn.Tanh()\n",
        "        )\n",
        "\n",
        "    def forward(self, x):\n",
        "        return self.model(x)\n",
        "\n",
        "# Discriminator: takes image and tells if it's real or fake\n",
        "class Discriminator(nn.Module):\n",
        "    def __init__(self):\n",
        "        super().__init__()\n",
        "        self.model = nn.Sequential(\n",
        "            nn.Linear(784, 512),\n",
        "            nn.LeakyReLU(0.2),\n",
        "            nn.Linear(512, 256),\n",
        "            nn.LeakyReLU(0.2),\n",
        "            nn.Linear(256, 1),\n",
        "            nn.Sigmoid()\n",
        "        )\n",
        "\n",
        "    def forward(self, x):\n",
        "        return self.model(x)\n"
      ],
      "metadata": {
        "id": "bCRmPNM1h9pG"
      },
      "execution_count": 9,
      "outputs": []
    },
    {
      "cell_type": "code",
      "source": [
        "device = torch.device(\"cuda\" if torch.cuda.is_available() else \"cpu\")\n",
        "\n",
        "G = Generator().to(device)\n",
        "D = Discriminator().to(device)\n",
        "\n",
        "criterion = nn.BCELoss()\n",
        "lr = 0.0002\n",
        "\n",
        "opt_G = optim.Adam(G.parameters(), lr=lr)\n",
        "opt_D = optim.Adam(D.parameters(), lr=lr)\n"
      ],
      "metadata": {
        "id": "ugF0h9fQiGdj"
      },
      "execution_count": 10,
      "outputs": []
    },
    {
      "cell_type": "code",
      "source": [
        "epochs = 10\n",
        "\n",
        "for epoch in range(epochs):\n",
        "    for real, _ in dataloader:\n",
        "        real = real.view(-1, 784).to(device)\n",
        "        batch_size = real.size(0)\n",
        "\n",
        "        # Labels\n",
        "        real_labels = torch.ones(batch_size, 1).to(device)\n",
        "        fake_labels = torch.zeros(batch_size, 1).to(device)\n",
        "\n",
        "        # ==== Train Discriminator ====\n",
        "        z = torch.randn(batch_size, 100).to(device)\n",
        "        fake = G(z)\n",
        "\n",
        "        D_real = D(real)\n",
        "        D_fake = D(fake.detach())\n",
        "\n",
        "        loss_D = criterion(D_real, real_labels) + criterion(D_fake, fake_labels)\n",
        "\n",
        "        opt_D.zero_grad()\n",
        "        loss_D.backward()\n",
        "        opt_D.step()\n",
        "\n",
        "        # ==== Train Generator ====\n",
        "        output = D(fake)\n",
        "        loss_G = criterion(output, real_labels)\n",
        "\n",
        "        opt_G.zero_grad()\n",
        "        loss_G.backward()\n",
        "        opt_G.step()\n",
        "\n",
        "    print(f\"Epoch [{epoch+1}/{epochs}] Loss_D: {loss_D.item():.4f}, Loss_G: {loss_G.item():.4f}\")\n"
      ],
      "metadata": {
        "colab": {
          "base_uri": "https://localhost:8080/"
        },
        "id": "5HaqkVdAiKgM",
        "outputId": "d0fb314f-6cbb-4792-c034-3e1e4ec9677c"
      },
      "execution_count": 13,
      "outputs": [
        {
          "output_type": "stream",
          "name": "stdout",
          "text": [
            "Epoch [1/10] Loss_D: 0.2736, Loss_G: 4.2663\n",
            "Epoch [2/10] Loss_D: 0.5501, Loss_G: 3.5088\n",
            "Epoch [3/10] Loss_D: 0.4559, Loss_G: 2.3701\n",
            "Epoch [4/10] Loss_D: 0.5519, Loss_G: 2.6988\n",
            "Epoch [5/10] Loss_D: 0.5392, Loss_G: 2.5357\n",
            "Epoch [6/10] Loss_D: 0.6892, Loss_G: 2.5761\n",
            "Epoch [7/10] Loss_D: 0.3219, Loss_G: 2.6142\n",
            "Epoch [8/10] Loss_D: 0.4989, Loss_G: 2.2813\n",
            "Epoch [9/10] Loss_D: 0.8441, Loss_G: 1.8066\n",
            "Epoch [10/10] Loss_D: 1.0783, Loss_G: 1.8471\n"
          ]
        }
      ]
    },
    {
      "cell_type": "code",
      "source": [
        "def show_generated():\n",
        "    with torch.no_grad():\n",
        "        z = torch.randn(16, 100).to(device)\n",
        "        generated = G(z).view(-1, 1, 28, 28).cpu()\n",
        "        grid = torchvision.utils.make_grid(generated, nrow=4, normalize=True)\n",
        "        plt.imshow(grid.permute(1, 2, 0))\n",
        "        plt.axis('off')\n",
        "        plt.title(\"Generated Digits\")\n",
        "        plt.show()\n",
        "\n",
        "show_generated()\n"
      ],
      "metadata": {
        "colab": {
          "base_uri": "https://localhost:8080/",
          "height": 428
        },
        "id": "dqlb35wGiQtq",
        "outputId": "1ba2e33b-f12c-4a0d-abd1-66dd80c12b22"
      },
      "execution_count": 14,
      "outputs": [
        {
          "output_type": "display_data",
          "data": {
            "text/plain": [
              "<Figure size 640x480 with 1 Axes>"
            ],
            "image/png": "[encoded data removed]"
          },
          "metadata": {}
        }
      ]
    },
    {
      "cell_type": "code",
      "source": [],
      "metadata": {
        "id": "3XuUAmiakBcO"
      },
      "execution_count": null,
      "outputs": []
    }
  ]
}