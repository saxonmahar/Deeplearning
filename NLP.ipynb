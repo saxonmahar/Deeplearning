{
  "nbformat": 4,
  "nbformat_minor": 0,
  "metadata": {
    "colab": {
      "provenance": [],
      "authorship_tag": "ABX9TyOlLMYD4iOflE1B5OLvY5Br",
      "include_colab_link": true
    },
    "kernelspec": {
      "name": "python3",
      "display_name": "Python 3"
    },
    "language_info": {
      "name": "python"
    }
  },
  "cells": [
    {
      "cell_type": "markdown",
      "metadata": {
        "id": "view-in-github",
        "colab_type": "text"
      },
      "source": [
        "<a href=\"https://colab.research.google.com/github/saxonmahar/Deeplearning/blob/main/NLP.ipynb\" target=\"_parent\"><img src=\"https://colab.research.google.com/assets/colab-badge.svg\" alt=\"Open In Colab\"/></a>"
      ]
    },
    {
      "cell_type": "code",
      "execution_count": 1,
      "metadata": {
        "colab": {
          "base_uri": "https://localhost:8080/",
          "height": 0
        },
        "id": "Oxtf0zxG9aBM",
        "outputId": "767f2461-8d57-40ab-f38d-3980fe7bd18d"
      },
      "outputs": [
        {
          "output_type": "stream",
          "name": "stderr",
          "text": [
            "[nltk_data] Downloading package punkt to /root/nltk_data...\n",
            "[nltk_data]   Package punkt is already up-to-date!\n",
            "[nltk_data] Downloading package punkt_tab to /root/nltk_data...\n",
            "[nltk_data]   Package punkt_tab is already up-to-date!\n",
            "[nltk_data] Downloading package stopwords to /root/nltk_data...\n",
            "[nltk_data]   Package stopwords is already up-to-date!\n",
            "[nltk_data] Downloading package wordnet to /root/nltk_data...\n",
            "[nltk_data]   Package wordnet is already up-to-date!\n"
          ]
        },
        {
          "output_type": "execute_result",
          "data": {
            "text/plain": [
              "True"
            ]
          },
          "metadata": {},
          "execution_count": 1
        }
      ],
      "source": [
        "import nltk\n",
        "nltk.download('punkt')\n",
        "nltk.download('punkt_tab')\n",
        "nltk.download('stopwords')\n",
        "nltk.download('wordnet')\n"
      ]
    },
    {
      "cell_type": "code",
      "source": [
        "from nltk.tokenize import word_tokenize\n",
        "from nltk.corpus import stopwords\n",
        "from nltk.stem import PorterStemmer, WordNetLemmatizer\n",
        "from sklearn.feature_extraction.text import CountVectorizer, TfidfVectorizer"
      ],
      "metadata": {
        "id": "9DmHbDaL9qJw"
      },
      "execution_count": 2,
      "outputs": []
    },
    {
      "cell_type": "code",
      "source": [
        "text = \"Natural Language Processing helps computers understand human language. It powers chatbots, voice assistants, and more.\"\n",
        "\n",
        "print(\"Original Text:\\n\", text)"
      ],
      "metadata": {
        "colab": {
          "base_uri": "https://localhost:8080/",
          "height": 0
        },
        "id": "5s4osOF6-CHg",
        "outputId": "9cacf48f-9656-4f99-eabb-fea5c54a72dc"
      },
      "execution_count": 3,
      "outputs": [
        {
          "output_type": "stream",
          "name": "stdout",
          "text": [
            "Original Text:\n",
            " Natural Language Processing helps computers understand human language. It powers chatbots, voice assistants, and more.\n"
          ]
        }
      ]
    },
    {
      "cell_type": "code",
      "source": [
        "tokens = word_tokenize(text)\n",
        "print(\"Tokens:\\n\", tokens)"
      ],
      "metadata": {
        "colab": {
          "base_uri": "https://localhost:8080/",
          "height": 0
        },
        "id": "1Qer29T0-GT9",
        "outputId": "e12decbb-e3c3-44da-9aa4-0a8c5b5d2f7c"
      },
      "execution_count": 4,
      "outputs": [
        {
          "output_type": "stream",
          "name": "stdout",
          "text": [
            "Tokens:\n",
            " ['Natural', 'Language', 'Processing', 'helps', 'computers', 'understand', 'human', 'language', '.', 'It', 'powers', 'chatbots', ',', 'voice', 'assistants', ',', 'and', 'more', '.']\n"
          ]
        }
      ]
    },
    {
      "cell_type": "code",
      "source": [
        "# Step 4: Stopword Removal\n",
        "stop_words = set(stopwords.words('english'))\n",
        "filtered_tokens = [word for word in tokens if word.lower() not in stop_words]\n",
        "print(\"After Stopword Removal:\\n\", filtered_tokens)\n"
      ],
      "metadata": {
        "colab": {
          "base_uri": "https://localhost:8080/",
          "height": 0
        },
        "id": "Dg5I6XBg-Pri",
        "outputId": "98caa4b4-a217-454c-fee5-2f76a1557736"
      },
      "execution_count": 5,
      "outputs": [
        {
          "output_type": "stream",
          "name": "stdout",
          "text": [
            "After Stopword Removal:\n",
            " ['Natural', 'Language', 'Processing', 'helps', 'computers', 'understand', 'human', 'language', '.', 'powers', 'chatbots', ',', 'voice', 'assistants', ',', '.']\n"
          ]
        }
      ]
    },
    {
      "cell_type": "code",
      "source": [
        "# Step 5: Stemming\n",
        "stemmer = PorterStemmer()\n",
        "stemmed_words = [stemmer.stem(word) for word in filtered_tokens]\n",
        "print(\"Stemmed Words:\\n\", stemmed_words)\n"
      ],
      "metadata": {
        "colab": {
          "base_uri": "https://localhost:8080/",
          "height": 0
        },
        "id": "2MVeCuTP-puc",
        "outputId": "cd0a66df-9195-422e-c45a-64abc421ea5c"
      },
      "execution_count": 6,
      "outputs": [
        {
          "output_type": "stream",
          "name": "stdout",
          "text": [
            "Stemmed Words:\n",
            " ['natur', 'languag', 'process', 'help', 'comput', 'understand', 'human', 'languag', '.', 'power', 'chatbot', ',', 'voic', 'assist', ',', '.']\n"
          ]
        }
      ]
    },
    {
      "cell_type": "code",
      "source": [
        "lemmatizer = WordNetLemmatizer()\n",
        "lemmatized_words = [lemmatizer.lemmatize(word) for word in filtered_tokens]\n",
        "print(\"Lemmatized Words:\\n\", lemmatized_words)\n"
      ],
      "metadata": {
        "colab": {
          "base_uri": "https://localhost:8080/",
          "height": 0
        },
        "id": "hbr05BTr-y2F",
        "outputId": "f50ce585-8f55-4e8d-f46c-fdbc4b10200c"
      },
      "execution_count": 7,
      "outputs": [
        {
          "output_type": "stream",
          "name": "stdout",
          "text": [
            "Lemmatized Words:\n",
            " ['Natural', 'Language', 'Processing', 'help', 'computer', 'understand', 'human', 'language', '.', 'power', 'chatbots', ',', 'voice', 'assistant', ',', '.']\n"
          ]
        }
      ]
    },
    {
      "cell_type": "code",
      "source": [
        "#  Step 7: Vectorization – Bag of Words (BoW)\n",
        "corpus = [\n",
        "    \"NLP makes machines understand language.\",\n",
        "    \"Voice assistants and chatbots are NLP applications.\",\n",
        "    \"Text can be transformed into vectors using TF-IDF.\"\n",
        "]\n",
        "\n",
        "vectorizer = CountVectorizer()\n",
        "X_bow = vectorizer.fit_transform(corpus)\n",
        "print(\"Bag of Words Feature Names:\\n\", vectorizer.get_feature_names_out())\n",
        "print(\"BoW Matrix:\\n\", X_bow.toarray())\n"
      ],
      "metadata": {
        "colab": {
          "base_uri": "https://localhost:8080/",
          "height": 0
        },
        "id": "OYxaqAxP-6tX",
        "outputId": "c07081e4-1417-4fa5-c173-0014505101a6"
      },
      "execution_count": 8,
      "outputs": [
        {
          "output_type": "stream",
          "name": "stdout",
          "text": [
            "Bag of Words Feature Names:\n",
            " ['and' 'applications' 'are' 'assistants' 'be' 'can' 'chatbots' 'idf'\n",
            " 'into' 'language' 'machines' 'makes' 'nlp' 'text' 'tf' 'transformed'\n",
            " 'understand' 'using' 'vectors' 'voice']\n",
            "BoW Matrix:\n",
            " [[0 0 0 0 0 0 0 0 0 1 1 1 1 0 0 0 1 0 0 0]\n",
            " [1 1 1 1 0 0 1 0 0 0 0 0 1 0 0 0 0 0 0 1]\n",
            " [0 0 0 0 1 1 0 1 1 0 0 0 0 1 1 1 0 1 1 0]]\n"
          ]
        }
      ]
    },
    {
      "cell_type": "code",
      "source": [
        "# Step 8: Vectorization – TF-IDF\n",
        "tfidf = TfidfVectorizer()\n",
        "X_tfidf = tfidf.fit_transform(corpus)\n",
        "print(\"TF-IDF Feature Names:\\n\", tfidf.get_feature_names_out())\n",
        "print(\"TF-IDF Matrix:\\n\", X_tfidf.toarray())\n"
      ],
      "metadata": {
        "colab": {
          "base_uri": "https://localhost:8080/",
          "height": 0
        },
        "id": "maUughEb_Bx8",
        "outputId": "0c28267f-8cea-45ac-b43e-92ab26900428"
      },
      "execution_count": 9,
      "outputs": [
        {
          "output_type": "stream",
          "name": "stdout",
          "text": [
            "TF-IDF Feature Names:\n",
            " ['and' 'applications' 'are' 'assistants' 'be' 'can' 'chatbots' 'idf'\n",
            " 'into' 'language' 'machines' 'makes' 'nlp' 'text' 'tf' 'transformed'\n",
            " 'understand' 'using' 'vectors' 'voice']\n",
            "TF-IDF Matrix:\n",
            " [[0.         0.         0.         0.         0.         0.\n",
            "  0.         0.         0.         0.46735098 0.46735098 0.46735098\n",
            "  0.35543247 0.         0.         0.         0.46735098 0.\n",
            "  0.         0.        ]\n",
            " [0.38988801 0.38988801 0.38988801 0.38988801 0.         0.\n",
            "  0.38988801 0.         0.         0.         0.         0.\n",
            "  0.29651988 0.         0.         0.         0.         0.\n",
            "  0.         0.38988801]\n",
            " [0.         0.         0.         0.         0.33333333 0.33333333\n",
            "  0.         0.33333333 0.33333333 0.         0.         0.\n",
            "  0.         0.33333333 0.33333333 0.33333333 0.         0.33333333\n",
            "  0.33333333 0.        ]]\n"
          ]
        }
      ]
    },
    {
      "cell_type": "code",
      "source": [],
      "metadata": {
        "id": "p-0HSMmjCrdr"
      },
      "execution_count": null,
      "outputs": []
    }
  ]
}